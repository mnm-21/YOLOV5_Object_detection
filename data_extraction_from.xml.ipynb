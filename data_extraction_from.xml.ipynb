{
 "cells": [
  {
   "cell_type": "code",
   "execution_count": 1,
   "id": "8afae035-e03e-4d9b-80e4-a8b38176d95f",
   "metadata": {},
   "outputs": [],
   "source": [
    "import os\n",
    "from glob import glob\n",
    "import pandas as pd\n",
    "from functools import reduce\n",
    "from xml.etree import ElementTree as et"
   ]
  },
  {
   "cell_type": "code",
   "execution_count": 2,
   "id": "35b894d7-646f-4036-816e-25a70d54b36a",
   "metadata": {},
   "outputs": [],
   "source": [
    "xml_list = glob('./VOC2012/Annotations/*.xml')\n",
    "xml_list = list(map(lambda x: x.replace('\\\\','/'),xml_list))"
   ]
  },
  {
   "cell_type": "code",
   "execution_count": 3,
   "id": "0087f0fe-3cb4-4c29-9cca-509af992b4b0",
   "metadata": {},
   "outputs": [
    {
     "data": {
      "text/plain": [
       "['./VOC2012/Annotations/2007_000027.xml',\n",
       " './VOC2012/Annotations/2007_000032.xml',\n",
       " './VOC2012/Annotations/2007_000033.xml',\n",
       " './VOC2012/Annotations/2007_000039.xml',\n",
       " './VOC2012/Annotations/2007_000042.xml',\n",
       " './VOC2012/Annotations/2007_000061.xml',\n",
       " './VOC2012/Annotations/2007_000063.xml',\n",
       " './VOC2012/Annotations/2007_000068.xml',\n",
       " './VOC2012/Annotations/2007_000121.xml',\n",
       " './VOC2012/Annotations/2007_000123.xml',\n",
       " './VOC2012/Annotations/2007_000129.xml',\n",
       " './VOC2012/Annotations/2007_000170.xml',\n",
       " './VOC2012/Annotations/2007_000175.xml',\n",
       " './VOC2012/Annotations/2007_000187.xml',\n",
       " './VOC2012/Annotations/2007_000241.xml',\n",
       " './VOC2012/Annotations/2007_000243.xml',\n",
       " './VOC2012/Annotations/2007_000250.xml',\n",
       " './VOC2012/Annotations/2007_000256.xml',\n",
       " './VOC2012/Annotations/2007_000272.xml',\n",
       " './VOC2012/Annotations/2007_000323.xml',\n",
       " './VOC2012/Annotations/2007_000332.xml',\n",
       " './VOC2012/Annotations/2007_000333.xml',\n",
       " './VOC2012/Annotations/2007_000346.xml',\n",
       " './VOC2012/Annotations/2007_000363.xml',\n",
       " './VOC2012/Annotations/2007_000364.xml']"
      ]
     },
     "execution_count": 3,
     "metadata": {},
     "output_type": "execute_result"
    }
   ],
   "source": [
    "xml_list[:25]"
   ]
  },
  {
   "cell_type": "code",
   "execution_count": 4,
   "id": "f9a21b2c-8c3c-4340-b27e-adb74c02f397",
   "metadata": {},
   "outputs": [],
   "source": [
    "# filename, size(width, height), object(name, xmin, xmax, ymin, ymax)\n",
    "def extract_text(filename):\n",
    "    tree = et.parse(filename)\n",
    "    root = tree.getroot()\n",
    "    \n",
    "    image_name = root.find('filename').text\n",
    "    width = root.find('size').find('width').text\n",
    "    height = root.find('size').find('height').text\n",
    "    objs = root.findall('object')\n",
    "    parser = []\n",
    "    \n",
    "    for obj in objs:\n",
    "        name = obj.find('name').text\n",
    "        bndbox = obj.find('bndbox')\n",
    "        xmin = bndbox.find('xmin').text\n",
    "        xmax = bndbox.find('xmax').text\n",
    "        ymin = bndbox.find('ymin').text\n",
    "        ymax = bndbox.find('ymax').text\n",
    "        parser.append([image_name, width, height, name, xmin, xmax, ymin, ymax])\n",
    "    return parser"
   ]
  },
  {
   "cell_type": "code",
   "execution_count": 5,
   "id": "02fb8460-9594-4199-b242-1957047d1d34",
   "metadata": {},
   "outputs": [
    {
     "data": {
      "text/plain": [
       "[['2007_000061.jpg', '500', '333', 'boat', '274', '437', '11', '279'],\n",
       " ['2007_000061.jpg', '500', '333', 'boat', '184', '281', '214', '252']]"
      ]
     },
     "execution_count": 5,
     "metadata": {},
     "output_type": "execute_result"
    }
   ],
   "source": [
    "# example\n",
    "extract_text('./VOC2012/Annotations/2007_000061.xml')"
   ]
  },
  {
   "cell_type": "code",
   "execution_count": 6,
   "id": "96d8d8d6-b810-449f-8518-5d5239a4e3c2",
   "metadata": {},
   "outputs": [],
   "source": [
    "parser_all = list(map(extract_text,xml_list))"
   ]
  },
  {
   "cell_type": "code",
   "execution_count": 7,
   "id": "0e19cadb-7f7d-4afe-a957-679c9718e1b1",
   "metadata": {},
   "outputs": [
    {
     "data": {
      "text/plain": [
       "17125"
      ]
     },
     "execution_count": 7,
     "metadata": {},
     "output_type": "execute_result"
    }
   ],
   "source": [
    "len(parser_all)"
   ]
  },
  {
   "cell_type": "code",
   "execution_count": 8,
   "id": "17bd8726-22d3-400e-bfc6-9fcef54df888",
   "metadata": {},
   "outputs": [],
   "source": [
    "dataset = reduce(lambda x,y : x+y, parser_all)"
   ]
  },
  {
   "cell_type": "code",
   "execution_count": 9,
   "id": "8ea7b179-8f2c-426c-a854-66589a5e4e2c",
   "metadata": {},
   "outputs": [
    {
     "data": {
      "text/plain": [
       "[['2007_000027.jpg', '486', '500', 'person', '174', '349', '101', '351'],\n",
       " ['2007_000032.jpg', '500', '281', 'aeroplane', '104', '375', '78', '183'],\n",
       " ['2007_000032.jpg', '500', '281', 'aeroplane', '133', '197', '88', '123'],\n",
       " ['2007_000032.jpg', '500', '281', 'person', '195', '213', '180', '229'],\n",
       " ['2007_000032.jpg', '500', '281', 'person', '26', '44', '189', '238'],\n",
       " ['2007_000033.jpg', '500', '366', 'aeroplane', '9', '499', '107', '263'],\n",
       " ['2007_000033.jpg', '500', '366', 'aeroplane', '421', '482', '200', '226'],\n",
       " ['2007_000033.jpg', '500', '366', 'aeroplane', '325', '411', '188', '223'],\n",
       " ['2007_000039.jpg', '500', '375', 'tvmonitor', '156', '344', '89', '279'],\n",
       " ['2007_000042.jpg', '500', '335', 'train', '263', '500', '32', '295'],\n",
       " ['2007_000042.jpg', '500', '335', 'train', '1', '235', '36', '299'],\n",
       " ['2007_000061.jpg', '500', '333', 'boat', '274', '437', '11', '279'],\n",
       " ['2007_000061.jpg', '500', '333', 'boat', '184', '281', '214', '252'],\n",
       " ['2007_000063.jpg', '500', '375', 'dog', '123', '379', '115', '275'],\n",
       " ['2007_000063.jpg', '500', '375', 'chair', '75', '428', '1', '375'],\n",
       " ['2007_000068.jpg', '500', '375', 'bird', '27', '266', '45', '375'],\n",
       " ['2007_000121.jpg', '500', '375', 'tvmonitor', '251', '475', '28', '267'],\n",
       " ['2007_000121.jpg', '500', '375', 'tvmonitor', '22', '251', '28', '273'],\n",
       " ['2007_000123.jpg', '500', '375', 'train', '1', '358', '26', '340'],\n",
       " ['2007_000129.jpg', '334', '500', 'bicycle', '70', '255', '202', '500'],\n",
       " ['2007_000129.jpg', '334', '500', 'bicycle', '251', '334', '242', '500'],\n",
       " ['2007_000129.jpg', '334', '500', 'bicycle', '1', '67', '144', '436'],\n",
       " ['2007_000129.jpg', '334', '500', 'person', '1', '66', '1', '363'],\n",
       " ['2007_000129.jpg', '334', '500', 'person', '74', '272', '1', '462'],\n",
       " ['2007_000129.jpg', '334', '500', 'person', '252', '334', '19', '487']]"
      ]
     },
     "execution_count": 9,
     "metadata": {},
     "output_type": "execute_result"
    }
   ],
   "source": [
    "dataset[:25]"
   ]
  },
  {
   "cell_type": "code",
   "execution_count": 10,
   "id": "92516f29-495f-4dfc-8806-280656a21c9c",
   "metadata": {},
   "outputs": [
    {
     "data": {
      "text/plain": [
       "40138"
      ]
     },
     "execution_count": 10,
     "metadata": {},
     "output_type": "execute_result"
    }
   ],
   "source": [
    "len(dataset)"
   ]
  },
  {
   "cell_type": "code",
   "execution_count": 11,
   "id": "06d243fb-9767-42f0-8a71-6e6f8b493993",
   "metadata": {},
   "outputs": [],
   "source": [
    "df = pd.DataFrame(dataset, columns = ['filename','width', 'height', 'name', 'xmin', 'xmax', 'ymin', 'ymax'])"
   ]
  },
  {
   "cell_type": "code",
   "execution_count": 12,
   "id": "39095a57-4f28-4a1f-b90f-66eaf21a5f90",
   "metadata": {},
   "outputs": [
    {
     "data": {
      "text/html": [
       "<div>\n",
       "<style scoped>\n",
       "    .dataframe tbody tr th:only-of-type {\n",
       "        vertical-align: middle;\n",
       "    }\n",
       "\n",
       "    .dataframe tbody tr th {\n",
       "        vertical-align: top;\n",
       "    }\n",
       "\n",
       "    .dataframe thead th {\n",
       "        text-align: right;\n",
       "    }\n",
       "</style>\n",
       "<table border=\"1\" class=\"dataframe\">\n",
       "  <thead>\n",
       "    <tr style=\"text-align: right;\">\n",
       "      <th></th>\n",
       "      <th>filename</th>\n",
       "      <th>width</th>\n",
       "      <th>height</th>\n",
       "      <th>name</th>\n",
       "      <th>xmin</th>\n",
       "      <th>xmax</th>\n",
       "      <th>ymin</th>\n",
       "      <th>ymax</th>\n",
       "    </tr>\n",
       "  </thead>\n",
       "  <tbody>\n",
       "    <tr>\n",
       "      <th>0</th>\n",
       "      <td>2007_000027.jpg</td>\n",
       "      <td>486</td>\n",
       "      <td>500</td>\n",
       "      <td>person</td>\n",
       "      <td>174</td>\n",
       "      <td>349</td>\n",
       "      <td>101</td>\n",
       "      <td>351</td>\n",
       "    </tr>\n",
       "    <tr>\n",
       "      <th>1</th>\n",
       "      <td>2007_000032.jpg</td>\n",
       "      <td>500</td>\n",
       "      <td>281</td>\n",
       "      <td>aeroplane</td>\n",
       "      <td>104</td>\n",
       "      <td>375</td>\n",
       "      <td>78</td>\n",
       "      <td>183</td>\n",
       "    </tr>\n",
       "    <tr>\n",
       "      <th>2</th>\n",
       "      <td>2007_000032.jpg</td>\n",
       "      <td>500</td>\n",
       "      <td>281</td>\n",
       "      <td>aeroplane</td>\n",
       "      <td>133</td>\n",
       "      <td>197</td>\n",
       "      <td>88</td>\n",
       "      <td>123</td>\n",
       "    </tr>\n",
       "    <tr>\n",
       "      <th>3</th>\n",
       "      <td>2007_000032.jpg</td>\n",
       "      <td>500</td>\n",
       "      <td>281</td>\n",
       "      <td>person</td>\n",
       "      <td>195</td>\n",
       "      <td>213</td>\n",
       "      <td>180</td>\n",
       "      <td>229</td>\n",
       "    </tr>\n",
       "    <tr>\n",
       "      <th>4</th>\n",
       "      <td>2007_000032.jpg</td>\n",
       "      <td>500</td>\n",
       "      <td>281</td>\n",
       "      <td>person</td>\n",
       "      <td>26</td>\n",
       "      <td>44</td>\n",
       "      <td>189</td>\n",
       "      <td>238</td>\n",
       "    </tr>\n",
       "  </tbody>\n",
       "</table>\n",
       "</div>"
      ],
      "text/plain": [
       "          filename width height       name xmin xmax ymin ymax\n",
       "0  2007_000027.jpg   486    500     person  174  349  101  351\n",
       "1  2007_000032.jpg   500    281  aeroplane  104  375   78  183\n",
       "2  2007_000032.jpg   500    281  aeroplane  133  197   88  123\n",
       "3  2007_000032.jpg   500    281     person  195  213  180  229\n",
       "4  2007_000032.jpg   500    281     person   26   44  189  238"
      ]
     },
     "execution_count": 12,
     "metadata": {},
     "output_type": "execute_result"
    }
   ],
   "source": [
    "df.head()"
   ]
  },
  {
   "cell_type": "code",
   "execution_count": 13,
   "id": "4c8fef12-d7bb-43ca-a0d4-858dcf468897",
   "metadata": {},
   "outputs": [
    {
     "data": {
      "text/plain": [
       "(40138, 8)"
      ]
     },
     "execution_count": 13,
     "metadata": {},
     "output_type": "execute_result"
    }
   ],
   "source": [
    "df.shape"
   ]
  },
  {
   "cell_type": "code",
   "execution_count": 14,
   "id": "f02cf76c-84ef-4128-b10b-452ee44eef6e",
   "metadata": {},
   "outputs": [
    {
     "data": {
      "text/plain": [
       "name\n",
       "person         17401\n",
       "chair           3056\n",
       "car             2492\n",
       "dog             1598\n",
       "bottle          1561\n",
       "cat             1277\n",
       "bird            1271\n",
       "pottedplant     1202\n",
       "sheep           1084\n",
       "boat            1059\n",
       "aeroplane       1002\n",
       "tvmonitor        893\n",
       "sofa             841\n",
       "bicycle          837\n",
       "horse            803\n",
       "motorbike        801\n",
       "diningtable      800\n",
       "cow              771\n",
       "train            704\n",
       "bus              685\n",
       "Name: count, dtype: int64"
      ]
     },
     "execution_count": 14,
     "metadata": {},
     "output_type": "execute_result"
    }
   ],
   "source": [
    "df['name'].value_counts()"
   ]
  },
  {
   "cell_type": "code",
   "execution_count": 15,
   "id": "4b258374-c1de-4901-a282-c51c034a343f",
   "metadata": {},
   "outputs": [
    {
     "name": "stdout",
     "output_type": "stream",
     "text": [
      "<class 'pandas.core.frame.DataFrame'>\n",
      "RangeIndex: 40138 entries, 0 to 40137\n",
      "Data columns (total 8 columns):\n",
      " #   Column    Non-Null Count  Dtype \n",
      "---  ------    --------------  ----- \n",
      " 0   filename  40138 non-null  object\n",
      " 1   width     40138 non-null  object\n",
      " 2   height    40138 non-null  object\n",
      " 3   name      40138 non-null  object\n",
      " 4   xmin      40138 non-null  object\n",
      " 5   xmax      40138 non-null  object\n",
      " 6   ymin      40138 non-null  object\n",
      " 7   ymax      40138 non-null  object\n",
      "dtypes: object(8)\n",
      "memory usage: 2.4+ MB\n"
     ]
    }
   ],
   "source": [
    "df.info()"
   ]
  },
  {
   "cell_type": "code",
   "execution_count": 18,
   "id": "fff7c6f5-e216-4a55-9964-bfc4a21d2c1f",
   "metadata": {},
   "outputs": [
    {
     "name": "stdout",
     "output_type": "stream",
     "text": [
      "<class 'pandas.core.frame.DataFrame'>\n",
      "RangeIndex: 40138 entries, 0 to 40137\n",
      "Data columns (total 8 columns):\n",
      " #   Column    Non-Null Count  Dtype \n",
      "---  ------    --------------  ----- \n",
      " 0   filename  40138 non-null  object\n",
      " 1   width     40138 non-null  int32 \n",
      " 2   height    40138 non-null  int32 \n",
      " 3   name      40138 non-null  object\n",
      " 4   xmin      40138 non-null  int32 \n",
      " 5   xmax      40138 non-null  int32 \n",
      " 6   ymin      40138 non-null  int32 \n",
      " 7   ymax      40138 non-null  int32 \n",
      "dtypes: int32(6), object(2)\n",
      "memory usage: 1.5+ MB\n"
     ]
    }
   ],
   "source": [
    "# type conversion\n",
    "cols = ['width', 'height', 'xmin', 'xmax', 'ymin', 'ymax']\n",
    "df[cols] = df[cols].astype(int)\n",
    "df.info()"
   ]
  },
  {
   "cell_type": "code",
   "execution_count": 19,
   "id": "90c136c4-28c2-409e-91ea-8fbdfcd7e150",
   "metadata": {},
   "outputs": [],
   "source": [
    "# centre x,y of the bounding boxes - normalized\n",
    "df['centre_x'] = ((df['xmin'] + df['xmax'])/2)/df['width']\n",
    "df['centre_y'] = ((df['ymin'] + df['ymax'])/2)/df['height']\n",
    "\n",
    "# width,height of bounding box - normalized\n",
    "df['w'] = (df['xmax'] - df['xmin'])/df['width']\n",
    "df['h'] = (df['ymax'] - df['ymin'])/df['height']"
   ]
  },
  {
   "cell_type": "code",
   "execution_count": 20,
   "id": "59d3c4ae-0cc8-4429-b184-22c7d8368859",
   "metadata": {},
   "outputs": [
    {
     "data": {
      "text/html": [
       "<div>\n",
       "<style scoped>\n",
       "    .dataframe tbody tr th:only-of-type {\n",
       "        vertical-align: middle;\n",
       "    }\n",
       "\n",
       "    .dataframe tbody tr th {\n",
       "        vertical-align: top;\n",
       "    }\n",
       "\n",
       "    .dataframe thead th {\n",
       "        text-align: right;\n",
       "    }\n",
       "</style>\n",
       "<table border=\"1\" class=\"dataframe\">\n",
       "  <thead>\n",
       "    <tr style=\"text-align: right;\">\n",
       "      <th></th>\n",
       "      <th>filename</th>\n",
       "      <th>width</th>\n",
       "      <th>height</th>\n",
       "      <th>name</th>\n",
       "      <th>xmin</th>\n",
       "      <th>xmax</th>\n",
       "      <th>ymin</th>\n",
       "      <th>ymax</th>\n",
       "      <th>centre_x</th>\n",
       "      <th>centre_y</th>\n",
       "      <th>w</th>\n",
       "      <th>h</th>\n",
       "    </tr>\n",
       "  </thead>\n",
       "  <tbody>\n",
       "    <tr>\n",
       "      <th>0</th>\n",
       "      <td>2007_000027.jpg</td>\n",
       "      <td>486</td>\n",
       "      <td>500</td>\n",
       "      <td>person</td>\n",
       "      <td>174</td>\n",
       "      <td>349</td>\n",
       "      <td>101</td>\n",
       "      <td>351</td>\n",
       "      <td>0.538066</td>\n",
       "      <td>0.452000</td>\n",
       "      <td>0.360082</td>\n",
       "      <td>0.500000</td>\n",
       "    </tr>\n",
       "    <tr>\n",
       "      <th>1</th>\n",
       "      <td>2007_000032.jpg</td>\n",
       "      <td>500</td>\n",
       "      <td>281</td>\n",
       "      <td>aeroplane</td>\n",
       "      <td>104</td>\n",
       "      <td>375</td>\n",
       "      <td>78</td>\n",
       "      <td>183</td>\n",
       "      <td>0.479000</td>\n",
       "      <td>0.464413</td>\n",
       "      <td>0.542000</td>\n",
       "      <td>0.373665</td>\n",
       "    </tr>\n",
       "    <tr>\n",
       "      <th>2</th>\n",
       "      <td>2007_000032.jpg</td>\n",
       "      <td>500</td>\n",
       "      <td>281</td>\n",
       "      <td>aeroplane</td>\n",
       "      <td>133</td>\n",
       "      <td>197</td>\n",
       "      <td>88</td>\n",
       "      <td>123</td>\n",
       "      <td>0.330000</td>\n",
       "      <td>0.375445</td>\n",
       "      <td>0.128000</td>\n",
       "      <td>0.124555</td>\n",
       "    </tr>\n",
       "    <tr>\n",
       "      <th>3</th>\n",
       "      <td>2007_000032.jpg</td>\n",
       "      <td>500</td>\n",
       "      <td>281</td>\n",
       "      <td>person</td>\n",
       "      <td>195</td>\n",
       "      <td>213</td>\n",
       "      <td>180</td>\n",
       "      <td>229</td>\n",
       "      <td>0.408000</td>\n",
       "      <td>0.727758</td>\n",
       "      <td>0.036000</td>\n",
       "      <td>0.174377</td>\n",
       "    </tr>\n",
       "    <tr>\n",
       "      <th>4</th>\n",
       "      <td>2007_000032.jpg</td>\n",
       "      <td>500</td>\n",
       "      <td>281</td>\n",
       "      <td>person</td>\n",
       "      <td>26</td>\n",
       "      <td>44</td>\n",
       "      <td>189</td>\n",
       "      <td>238</td>\n",
       "      <td>0.070000</td>\n",
       "      <td>0.759786</td>\n",
       "      <td>0.036000</td>\n",
       "      <td>0.174377</td>\n",
       "    </tr>\n",
       "  </tbody>\n",
       "</table>\n",
       "</div>"
      ],
      "text/plain": [
       "          filename  width  height       name  xmin  xmax  ymin  ymax  \\\n",
       "0  2007_000027.jpg    486     500     person   174   349   101   351   \n",
       "1  2007_000032.jpg    500     281  aeroplane   104   375    78   183   \n",
       "2  2007_000032.jpg    500     281  aeroplane   133   197    88   123   \n",
       "3  2007_000032.jpg    500     281     person   195   213   180   229   \n",
       "4  2007_000032.jpg    500     281     person    26    44   189   238   \n",
       "\n",
       "   centre_x  centre_y         w         h  \n",
       "0  0.538066  0.452000  0.360082  0.500000  \n",
       "1  0.479000  0.464413  0.542000  0.373665  \n",
       "2  0.330000  0.375445  0.128000  0.124555  \n",
       "3  0.408000  0.727758  0.036000  0.174377  \n",
       "4  0.070000  0.759786  0.036000  0.174377  "
      ]
     },
     "execution_count": 20,
     "metadata": {},
     "output_type": "execute_result"
    }
   ],
   "source": [
    "df.head()"
   ]
  },
  {
   "cell_type": "code",
   "execution_count": 27,
   "id": "4b13292d-531f-43f9-b397-3025e36163ca",
   "metadata": {},
   "outputs": [],
   "source": [
    "images = df['filename'].unique()"
   ]
  },
  {
   "cell_type": "code",
   "execution_count": 28,
   "id": "4a9ca377-83fc-4413-9b4e-034038a14d2f",
   "metadata": {},
   "outputs": [
    {
     "data": {
      "text/plain": [
       "17125"
      ]
     },
     "execution_count": 28,
     "metadata": {},
     "output_type": "execute_result"
    }
   ],
   "source": [
    "len(images)"
   ]
  },
  {
   "cell_type": "code",
   "execution_count": 33,
   "id": "9f76b681-f863-410f-a149-49f770317a4e",
   "metadata": {},
   "outputs": [
    {
     "name": "stdout",
     "output_type": "stream",
     "text": [
      "('2011_003016.jpg', '2007_004830.jpg', '2008_006361.jpg', '2010_000097.jpg', '2010_000117.jpg', '2011_002629.jpg', '2009_000954.jpg', '2008_003709.jpg', '2012_002075.jpg', '2008_007537.jpg')\n"
     ]
    }
   ],
   "source": [
    "# we have 17125 unique images test - train 80-20\n",
    "img_df = pd.DataFrame(images, columns = ['filename'])\n",
    "train = tuple(img_df.sample(frac=0.8)['filename'])\n",
    "print(train[:10])"
   ]
  },
  {
   "cell_type": "code",
   "execution_count": 36,
   "id": "98ad07e6-073a-42ae-b060-41f7ac88c91a",
   "metadata": {},
   "outputs": [
    {
     "data": {
      "text/plain": [
       "('2007_000323.jpg',\n",
       " '2007_000491.jpg',\n",
       " '2007_000504.jpg',\n",
       " '2007_000559.jpg',\n",
       " '2007_000636.jpg',\n",
       " '2007_000676.jpg',\n",
       " '2007_000733.jpg',\n",
       " '2007_000876.jpg',\n",
       " '2007_001027.jpg',\n",
       " '2007_001149.jpg')"
      ]
     },
     "execution_count": 36,
     "metadata": {},
     "output_type": "execute_result"
    }
   ],
   "source": [
    "test = tuple(img_df.query(f'filename not in {train}')['filename'])\n",
    "test[:10]"
   ]
  },
  {
   "cell_type": "code",
   "execution_count": 37,
   "id": "4d6b7077-58f9-45f4-8b6c-9f91a7ef0f13",
   "metadata": {},
   "outputs": [
    {
     "name": "stdout",
     "output_type": "stream",
     "text": [
      "3425 13700 17125\n"
     ]
    }
   ],
   "source": [
    "print(len(test), len(train), len(test)+len(train))"
   ]
  },
  {
   "cell_type": "code",
   "execution_count": 38,
   "id": "44dba7cf-c89f-4a37-ab8c-235d12d0dd17",
   "metadata": {},
   "outputs": [],
   "source": [
    "train_df = df.query(f'filename in {train}')\n",
    "test_df = df.query(f'filename in {test}')"
   ]
  },
  {
   "cell_type": "code",
   "execution_count": 40,
   "id": "4384a42b-a2e2-4292-9606-54edf0802f24",
   "metadata": {},
   "outputs": [
    {
     "data": {
      "text/html": [
       "<div>\n",
       "<style scoped>\n",
       "    .dataframe tbody tr th:only-of-type {\n",
       "        vertical-align: middle;\n",
       "    }\n",
       "\n",
       "    .dataframe tbody tr th {\n",
       "        vertical-align: top;\n",
       "    }\n",
       "\n",
       "    .dataframe thead th {\n",
       "        text-align: right;\n",
       "    }\n",
       "</style>\n",
       "<table border=\"1\" class=\"dataframe\">\n",
       "  <thead>\n",
       "    <tr style=\"text-align: right;\">\n",
       "      <th></th>\n",
       "      <th>filename</th>\n",
       "      <th>width</th>\n",
       "      <th>height</th>\n",
       "      <th>name</th>\n",
       "      <th>xmin</th>\n",
       "      <th>xmax</th>\n",
       "      <th>ymin</th>\n",
       "      <th>ymax</th>\n",
       "      <th>centre_x</th>\n",
       "      <th>centre_y</th>\n",
       "      <th>w</th>\n",
       "      <th>h</th>\n",
       "    </tr>\n",
       "  </thead>\n",
       "  <tbody>\n",
       "    <tr>\n",
       "      <th>0</th>\n",
       "      <td>2007_000027.jpg</td>\n",
       "      <td>486</td>\n",
       "      <td>500</td>\n",
       "      <td>person</td>\n",
       "      <td>174</td>\n",
       "      <td>349</td>\n",
       "      <td>101</td>\n",
       "      <td>351</td>\n",
       "      <td>0.538066</td>\n",
       "      <td>0.452000</td>\n",
       "      <td>0.360082</td>\n",
       "      <td>0.500000</td>\n",
       "    </tr>\n",
       "    <tr>\n",
       "      <th>1</th>\n",
       "      <td>2007_000032.jpg</td>\n",
       "      <td>500</td>\n",
       "      <td>281</td>\n",
       "      <td>aeroplane</td>\n",
       "      <td>104</td>\n",
       "      <td>375</td>\n",
       "      <td>78</td>\n",
       "      <td>183</td>\n",
       "      <td>0.479000</td>\n",
       "      <td>0.464413</td>\n",
       "      <td>0.542000</td>\n",
       "      <td>0.373665</td>\n",
       "    </tr>\n",
       "    <tr>\n",
       "      <th>2</th>\n",
       "      <td>2007_000032.jpg</td>\n",
       "      <td>500</td>\n",
       "      <td>281</td>\n",
       "      <td>aeroplane</td>\n",
       "      <td>133</td>\n",
       "      <td>197</td>\n",
       "      <td>88</td>\n",
       "      <td>123</td>\n",
       "      <td>0.330000</td>\n",
       "      <td>0.375445</td>\n",
       "      <td>0.128000</td>\n",
       "      <td>0.124555</td>\n",
       "    </tr>\n",
       "    <tr>\n",
       "      <th>3</th>\n",
       "      <td>2007_000032.jpg</td>\n",
       "      <td>500</td>\n",
       "      <td>281</td>\n",
       "      <td>person</td>\n",
       "      <td>195</td>\n",
       "      <td>213</td>\n",
       "      <td>180</td>\n",
       "      <td>229</td>\n",
       "      <td>0.408000</td>\n",
       "      <td>0.727758</td>\n",
       "      <td>0.036000</td>\n",
       "      <td>0.174377</td>\n",
       "    </tr>\n",
       "    <tr>\n",
       "      <th>4</th>\n",
       "      <td>2007_000032.jpg</td>\n",
       "      <td>500</td>\n",
       "      <td>281</td>\n",
       "      <td>person</td>\n",
       "      <td>26</td>\n",
       "      <td>44</td>\n",
       "      <td>189</td>\n",
       "      <td>238</td>\n",
       "      <td>0.070000</td>\n",
       "      <td>0.759786</td>\n",
       "      <td>0.036000</td>\n",
       "      <td>0.174377</td>\n",
       "    </tr>\n",
       "  </tbody>\n",
       "</table>\n",
       "</div>"
      ],
      "text/plain": [
       "          filename  width  height       name  xmin  xmax  ymin  ymax  \\\n",
       "0  2007_000027.jpg    486     500     person   174   349   101   351   \n",
       "1  2007_000032.jpg    500     281  aeroplane   104   375    78   183   \n",
       "2  2007_000032.jpg    500     281  aeroplane   133   197    88   123   \n",
       "3  2007_000032.jpg    500     281     person   195   213   180   229   \n",
       "4  2007_000032.jpg    500     281     person    26    44   189   238   \n",
       "\n",
       "   centre_x  centre_y         w         h  \n",
       "0  0.538066  0.452000  0.360082  0.500000  \n",
       "1  0.479000  0.464413  0.542000  0.373665  \n",
       "2  0.330000  0.375445  0.128000  0.124555  \n",
       "3  0.408000  0.727758  0.036000  0.174377  \n",
       "4  0.070000  0.759786  0.036000  0.174377  "
      ]
     },
     "execution_count": 40,
     "metadata": {},
     "output_type": "execute_result"
    }
   ],
   "source": [
    "train_df.head()"
   ]
  },
  {
   "cell_type": "code",
   "execution_count": 41,
   "id": "7528e18a-e707-4a79-b512-dff674698a53",
   "metadata": {},
   "outputs": [
    {
     "data": {
      "text/html": [
       "<div>\n",
       "<style scoped>\n",
       "    .dataframe tbody tr th:only-of-type {\n",
       "        vertical-align: middle;\n",
       "    }\n",
       "\n",
       "    .dataframe tbody tr th {\n",
       "        vertical-align: top;\n",
       "    }\n",
       "\n",
       "    .dataframe thead th {\n",
       "        text-align: right;\n",
       "    }\n",
       "</style>\n",
       "<table border=\"1\" class=\"dataframe\">\n",
       "  <thead>\n",
       "    <tr style=\"text-align: right;\">\n",
       "      <th></th>\n",
       "      <th>filename</th>\n",
       "      <th>width</th>\n",
       "      <th>height</th>\n",
       "      <th>name</th>\n",
       "      <th>xmin</th>\n",
       "      <th>xmax</th>\n",
       "      <th>ymin</th>\n",
       "      <th>ymax</th>\n",
       "      <th>centre_x</th>\n",
       "      <th>centre_y</th>\n",
       "      <th>w</th>\n",
       "      <th>h</th>\n",
       "    </tr>\n",
       "  </thead>\n",
       "  <tbody>\n",
       "    <tr>\n",
       "      <th>41</th>\n",
       "      <td>2007_000323.jpg</td>\n",
       "      <td>500</td>\n",
       "      <td>375</td>\n",
       "      <td>person</td>\n",
       "      <td>277</td>\n",
       "      <td>500</td>\n",
       "      <td>3</td>\n",
       "      <td>375</td>\n",
       "      <td>0.777</td>\n",
       "      <td>0.504000</td>\n",
       "      <td>0.446</td>\n",
       "      <td>0.992000</td>\n",
       "    </tr>\n",
       "    <tr>\n",
       "      <th>42</th>\n",
       "      <td>2007_000323.jpg</td>\n",
       "      <td>500</td>\n",
       "      <td>375</td>\n",
       "      <td>person</td>\n",
       "      <td>12</td>\n",
       "      <td>305</td>\n",
       "      <td>3</td>\n",
       "      <td>375</td>\n",
       "      <td>0.317</td>\n",
       "      <td>0.504000</td>\n",
       "      <td>0.586</td>\n",
       "      <td>0.992000</td>\n",
       "    </tr>\n",
       "    <tr>\n",
       "      <th>66</th>\n",
       "      <td>2007_000491.jpg</td>\n",
       "      <td>500</td>\n",
       "      <td>334</td>\n",
       "      <td>cow</td>\n",
       "      <td>2</td>\n",
       "      <td>459</td>\n",
       "      <td>2</td>\n",
       "      <td>334</td>\n",
       "      <td>0.461</td>\n",
       "      <td>0.502994</td>\n",
       "      <td>0.914</td>\n",
       "      <td>0.994012</td>\n",
       "    </tr>\n",
       "    <tr>\n",
       "      <th>67</th>\n",
       "      <td>2007_000504.jpg</td>\n",
       "      <td>500</td>\n",
       "      <td>412</td>\n",
       "      <td>cow</td>\n",
       "      <td>341</td>\n",
       "      <td>500</td>\n",
       "      <td>102</td>\n",
       "      <td>406</td>\n",
       "      <td>0.841</td>\n",
       "      <td>0.616505</td>\n",
       "      <td>0.318</td>\n",
       "      <td>0.737864</td>\n",
       "    </tr>\n",
       "    <tr>\n",
       "      <th>68</th>\n",
       "      <td>2007_000504.jpg</td>\n",
       "      <td>500</td>\n",
       "      <td>412</td>\n",
       "      <td>person</td>\n",
       "      <td>36</td>\n",
       "      <td>79</td>\n",
       "      <td>34</td>\n",
       "      <td>123</td>\n",
       "      <td>0.115</td>\n",
       "      <td>0.190534</td>\n",
       "      <td>0.086</td>\n",
       "      <td>0.216019</td>\n",
       "    </tr>\n",
       "  </tbody>\n",
       "</table>\n",
       "</div>"
      ],
      "text/plain": [
       "           filename  width  height    name  xmin  xmax  ymin  ymax  centre_x  \\\n",
       "41  2007_000323.jpg    500     375  person   277   500     3   375     0.777   \n",
       "42  2007_000323.jpg    500     375  person    12   305     3   375     0.317   \n",
       "66  2007_000491.jpg    500     334     cow     2   459     2   334     0.461   \n",
       "67  2007_000504.jpg    500     412     cow   341   500   102   406     0.841   \n",
       "68  2007_000504.jpg    500     412  person    36    79    34   123     0.115   \n",
       "\n",
       "    centre_y      w         h  \n",
       "41  0.504000  0.446  0.992000  \n",
       "42  0.504000  0.586  0.992000  \n",
       "66  0.502994  0.914  0.994012  \n",
       "67  0.616505  0.318  0.737864  \n",
       "68  0.190534  0.086  0.216019  "
      ]
     },
     "execution_count": 41,
     "metadata": {},
     "output_type": "execute_result"
    }
   ],
   "source": [
    "test_df.head()"
   ]
  },
  {
   "cell_type": "code",
   "execution_count": 42,
   "id": "2f46284c-d469-47e1-a074-584f124dbe70",
   "metadata": {},
   "outputs": [
    {
     "data": {
      "text/plain": [
       "array(['person', 'aeroplane', 'tvmonitor', 'train', 'boat', 'dog',\n",
       "       'chair', 'bird', 'bicycle', 'bottle', 'sheep', 'diningtable',\n",
       "       'horse', 'motorbike', 'sofa', 'cow', 'car', 'cat', 'bus',\n",
       "       'pottedplant'], dtype=object)"
      ]
     },
     "execution_count": 42,
     "metadata": {},
     "output_type": "execute_result"
    }
   ],
   "source": [
    "df['name'].unique()"
   ]
  },
  {
   "cell_type": "code",
   "execution_count": 45,
   "id": "dae32bb0-eeae-4d4b-9b00-da34ddc0ce09",
   "metadata": {},
   "outputs": [],
   "source": [
    "# label encoding\n",
    "labels_dictionary = {'person':0, 'car':1, 'chair':2, 'bottle':3, 'pottedplant':4, 'bird':5, 'dog':6,\n",
    "'sofa':7, 'bicycle':8, 'horse':9, 'boat':10, 'motorbike':11, 'cat':12, 'tvmonitor':13,\n",
    "'cow':14, 'sheep':15, 'aeroplane':16, 'train':17, 'diningtable':18, 'bus':19}\n",
    "\n",
    "train_df.loc[:, 'id'] = train_df['name'].map(labels_dictionary)\n",
    "test_df.loc[:, 'id'] = test_df['name'].map(labels_dictionary)"
   ]
  },
  {
   "cell_type": "code",
   "execution_count": 48,
   "id": "eb2d8957-ce81-43d6-92c8-aeb08b2d6dde",
   "metadata": {},
   "outputs": [
    {
     "data": {
      "text/html": [
       "<div>\n",
       "<style scoped>\n",
       "    .dataframe tbody tr th:only-of-type {\n",
       "        vertical-align: middle;\n",
       "    }\n",
       "\n",
       "    .dataframe tbody tr th {\n",
       "        vertical-align: top;\n",
       "    }\n",
       "\n",
       "    .dataframe thead th {\n",
       "        text-align: right;\n",
       "    }\n",
       "</style>\n",
       "<table border=\"1\" class=\"dataframe\">\n",
       "  <thead>\n",
       "    <tr style=\"text-align: right;\">\n",
       "      <th></th>\n",
       "      <th>filename</th>\n",
       "      <th>width</th>\n",
       "      <th>height</th>\n",
       "      <th>name</th>\n",
       "      <th>xmin</th>\n",
       "      <th>xmax</th>\n",
       "      <th>ymin</th>\n",
       "      <th>ymax</th>\n",
       "      <th>centre_x</th>\n",
       "      <th>centre_y</th>\n",
       "      <th>w</th>\n",
       "      <th>h</th>\n",
       "      <th>id</th>\n",
       "    </tr>\n",
       "  </thead>\n",
       "  <tbody>\n",
       "    <tr>\n",
       "      <th>0</th>\n",
       "      <td>2007_000027.jpg</td>\n",
       "      <td>486</td>\n",
       "      <td>500</td>\n",
       "      <td>person</td>\n",
       "      <td>174</td>\n",
       "      <td>349</td>\n",
       "      <td>101</td>\n",
       "      <td>351</td>\n",
       "      <td>0.538066</td>\n",
       "      <td>0.452000</td>\n",
       "      <td>0.360082</td>\n",
       "      <td>0.500000</td>\n",
       "      <td>0</td>\n",
       "    </tr>\n",
       "    <tr>\n",
       "      <th>1</th>\n",
       "      <td>2007_000032.jpg</td>\n",
       "      <td>500</td>\n",
       "      <td>281</td>\n",
       "      <td>aeroplane</td>\n",
       "      <td>104</td>\n",
       "      <td>375</td>\n",
       "      <td>78</td>\n",
       "      <td>183</td>\n",
       "      <td>0.479000</td>\n",
       "      <td>0.464413</td>\n",
       "      <td>0.542000</td>\n",
       "      <td>0.373665</td>\n",
       "      <td>16</td>\n",
       "    </tr>\n",
       "    <tr>\n",
       "      <th>2</th>\n",
       "      <td>2007_000032.jpg</td>\n",
       "      <td>500</td>\n",
       "      <td>281</td>\n",
       "      <td>aeroplane</td>\n",
       "      <td>133</td>\n",
       "      <td>197</td>\n",
       "      <td>88</td>\n",
       "      <td>123</td>\n",
       "      <td>0.330000</td>\n",
       "      <td>0.375445</td>\n",
       "      <td>0.128000</td>\n",
       "      <td>0.124555</td>\n",
       "      <td>16</td>\n",
       "    </tr>\n",
       "    <tr>\n",
       "      <th>3</th>\n",
       "      <td>2007_000032.jpg</td>\n",
       "      <td>500</td>\n",
       "      <td>281</td>\n",
       "      <td>person</td>\n",
       "      <td>195</td>\n",
       "      <td>213</td>\n",
       "      <td>180</td>\n",
       "      <td>229</td>\n",
       "      <td>0.408000</td>\n",
       "      <td>0.727758</td>\n",
       "      <td>0.036000</td>\n",
       "      <td>0.174377</td>\n",
       "      <td>0</td>\n",
       "    </tr>\n",
       "    <tr>\n",
       "      <th>4</th>\n",
       "      <td>2007_000032.jpg</td>\n",
       "      <td>500</td>\n",
       "      <td>281</td>\n",
       "      <td>person</td>\n",
       "      <td>26</td>\n",
       "      <td>44</td>\n",
       "      <td>189</td>\n",
       "      <td>238</td>\n",
       "      <td>0.070000</td>\n",
       "      <td>0.759786</td>\n",
       "      <td>0.036000</td>\n",
       "      <td>0.174377</td>\n",
       "      <td>0</td>\n",
       "    </tr>\n",
       "    <tr>\n",
       "      <th>5</th>\n",
       "      <td>2007_000033.jpg</td>\n",
       "      <td>500</td>\n",
       "      <td>366</td>\n",
       "      <td>aeroplane</td>\n",
       "      <td>9</td>\n",
       "      <td>499</td>\n",
       "      <td>107</td>\n",
       "      <td>263</td>\n",
       "      <td>0.508000</td>\n",
       "      <td>0.505464</td>\n",
       "      <td>0.980000</td>\n",
       "      <td>0.426230</td>\n",
       "      <td>16</td>\n",
       "    </tr>\n",
       "    <tr>\n",
       "      <th>6</th>\n",
       "      <td>2007_000033.jpg</td>\n",
       "      <td>500</td>\n",
       "      <td>366</td>\n",
       "      <td>aeroplane</td>\n",
       "      <td>421</td>\n",
       "      <td>482</td>\n",
       "      <td>200</td>\n",
       "      <td>226</td>\n",
       "      <td>0.903000</td>\n",
       "      <td>0.581967</td>\n",
       "      <td>0.122000</td>\n",
       "      <td>0.071038</td>\n",
       "      <td>16</td>\n",
       "    </tr>\n",
       "    <tr>\n",
       "      <th>7</th>\n",
       "      <td>2007_000033.jpg</td>\n",
       "      <td>500</td>\n",
       "      <td>366</td>\n",
       "      <td>aeroplane</td>\n",
       "      <td>325</td>\n",
       "      <td>411</td>\n",
       "      <td>188</td>\n",
       "      <td>223</td>\n",
       "      <td>0.736000</td>\n",
       "      <td>0.561475</td>\n",
       "      <td>0.172000</td>\n",
       "      <td>0.095628</td>\n",
       "      <td>16</td>\n",
       "    </tr>\n",
       "    <tr>\n",
       "      <th>8</th>\n",
       "      <td>2007_000039.jpg</td>\n",
       "      <td>500</td>\n",
       "      <td>375</td>\n",
       "      <td>tvmonitor</td>\n",
       "      <td>156</td>\n",
       "      <td>344</td>\n",
       "      <td>89</td>\n",
       "      <td>279</td>\n",
       "      <td>0.500000</td>\n",
       "      <td>0.490667</td>\n",
       "      <td>0.376000</td>\n",
       "      <td>0.506667</td>\n",
       "      <td>13</td>\n",
       "    </tr>\n",
       "    <tr>\n",
       "      <th>9</th>\n",
       "      <td>2007_000042.jpg</td>\n",
       "      <td>500</td>\n",
       "      <td>335</td>\n",
       "      <td>train</td>\n",
       "      <td>263</td>\n",
       "      <td>500</td>\n",
       "      <td>32</td>\n",
       "      <td>295</td>\n",
       "      <td>0.763000</td>\n",
       "      <td>0.488060</td>\n",
       "      <td>0.474000</td>\n",
       "      <td>0.785075</td>\n",
       "      <td>17</td>\n",
       "    </tr>\n",
       "  </tbody>\n",
       "</table>\n",
       "</div>"
      ],
      "text/plain": [
       "          filename  width  height       name  xmin  xmax  ymin  ymax  \\\n",
       "0  2007_000027.jpg    486     500     person   174   349   101   351   \n",
       "1  2007_000032.jpg    500     281  aeroplane   104   375    78   183   \n",
       "2  2007_000032.jpg    500     281  aeroplane   133   197    88   123   \n",
       "3  2007_000032.jpg    500     281     person   195   213   180   229   \n",
       "4  2007_000032.jpg    500     281     person    26    44   189   238   \n",
       "5  2007_000033.jpg    500     366  aeroplane     9   499   107   263   \n",
       "6  2007_000033.jpg    500     366  aeroplane   421   482   200   226   \n",
       "7  2007_000033.jpg    500     366  aeroplane   325   411   188   223   \n",
       "8  2007_000039.jpg    500     375  tvmonitor   156   344    89   279   \n",
       "9  2007_000042.jpg    500     335      train   263   500    32   295   \n",
       "\n",
       "   centre_x  centre_y         w         h  id  \n",
       "0  0.538066  0.452000  0.360082  0.500000   0  \n",
       "1  0.479000  0.464413  0.542000  0.373665  16  \n",
       "2  0.330000  0.375445  0.128000  0.124555  16  \n",
       "3  0.408000  0.727758  0.036000  0.174377   0  \n",
       "4  0.070000  0.759786  0.036000  0.174377   0  \n",
       "5  0.508000  0.505464  0.980000  0.426230  16  \n",
       "6  0.903000  0.581967  0.122000  0.071038  16  \n",
       "7  0.736000  0.561475  0.172000  0.095628  16  \n",
       "8  0.500000  0.490667  0.376000  0.506667  13  \n",
       "9  0.763000  0.488060  0.474000  0.785075  17  "
      ]
     },
     "execution_count": 48,
     "metadata": {},
     "output_type": "execute_result"
    }
   ],
   "source": [
    "train_df.head(10)"
   ]
  },
  {
   "cell_type": "code",
   "execution_count": 49,
   "id": "0526f40e-9484-4eb0-bda4-a6a36b43e141",
   "metadata": {},
   "outputs": [
    {
     "data": {
      "text/html": [
       "<div>\n",
       "<style scoped>\n",
       "    .dataframe tbody tr th:only-of-type {\n",
       "        vertical-align: middle;\n",
       "    }\n",
       "\n",
       "    .dataframe tbody tr th {\n",
       "        vertical-align: top;\n",
       "    }\n",
       "\n",
       "    .dataframe thead th {\n",
       "        text-align: right;\n",
       "    }\n",
       "</style>\n",
       "<table border=\"1\" class=\"dataframe\">\n",
       "  <thead>\n",
       "    <tr style=\"text-align: right;\">\n",
       "      <th></th>\n",
       "      <th>filename</th>\n",
       "      <th>width</th>\n",
       "      <th>height</th>\n",
       "      <th>name</th>\n",
       "      <th>xmin</th>\n",
       "      <th>xmax</th>\n",
       "      <th>ymin</th>\n",
       "      <th>ymax</th>\n",
       "      <th>centre_x</th>\n",
       "      <th>centre_y</th>\n",
       "      <th>w</th>\n",
       "      <th>h</th>\n",
       "      <th>id</th>\n",
       "    </tr>\n",
       "  </thead>\n",
       "  <tbody>\n",
       "    <tr>\n",
       "      <th>41</th>\n",
       "      <td>2007_000323.jpg</td>\n",
       "      <td>500</td>\n",
       "      <td>375</td>\n",
       "      <td>person</td>\n",
       "      <td>277</td>\n",
       "      <td>500</td>\n",
       "      <td>3</td>\n",
       "      <td>375</td>\n",
       "      <td>0.777</td>\n",
       "      <td>0.504000</td>\n",
       "      <td>0.446</td>\n",
       "      <td>0.992000</td>\n",
       "      <td>0</td>\n",
       "    </tr>\n",
       "    <tr>\n",
       "      <th>42</th>\n",
       "      <td>2007_000323.jpg</td>\n",
       "      <td>500</td>\n",
       "      <td>375</td>\n",
       "      <td>person</td>\n",
       "      <td>12</td>\n",
       "      <td>305</td>\n",
       "      <td>3</td>\n",
       "      <td>375</td>\n",
       "      <td>0.317</td>\n",
       "      <td>0.504000</td>\n",
       "      <td>0.586</td>\n",
       "      <td>0.992000</td>\n",
       "      <td>0</td>\n",
       "    </tr>\n",
       "    <tr>\n",
       "      <th>66</th>\n",
       "      <td>2007_000491.jpg</td>\n",
       "      <td>500</td>\n",
       "      <td>334</td>\n",
       "      <td>cow</td>\n",
       "      <td>2</td>\n",
       "      <td>459</td>\n",
       "      <td>2</td>\n",
       "      <td>334</td>\n",
       "      <td>0.461</td>\n",
       "      <td>0.502994</td>\n",
       "      <td>0.914</td>\n",
       "      <td>0.994012</td>\n",
       "      <td>14</td>\n",
       "    </tr>\n",
       "    <tr>\n",
       "      <th>67</th>\n",
       "      <td>2007_000504.jpg</td>\n",
       "      <td>500</td>\n",
       "      <td>412</td>\n",
       "      <td>cow</td>\n",
       "      <td>341</td>\n",
       "      <td>500</td>\n",
       "      <td>102</td>\n",
       "      <td>406</td>\n",
       "      <td>0.841</td>\n",
       "      <td>0.616505</td>\n",
       "      <td>0.318</td>\n",
       "      <td>0.737864</td>\n",
       "      <td>14</td>\n",
       "    </tr>\n",
       "    <tr>\n",
       "      <th>68</th>\n",
       "      <td>2007_000504.jpg</td>\n",
       "      <td>500</td>\n",
       "      <td>412</td>\n",
       "      <td>person</td>\n",
       "      <td>36</td>\n",
       "      <td>79</td>\n",
       "      <td>34</td>\n",
       "      <td>123</td>\n",
       "      <td>0.115</td>\n",
       "      <td>0.190534</td>\n",
       "      <td>0.086</td>\n",
       "      <td>0.216019</td>\n",
       "      <td>0</td>\n",
       "    </tr>\n",
       "    <tr>\n",
       "      <th>69</th>\n",
       "      <td>2007_000504.jpg</td>\n",
       "      <td>500</td>\n",
       "      <td>412</td>\n",
       "      <td>person</td>\n",
       "      <td>2</td>\n",
       "      <td>36</td>\n",
       "      <td>44</td>\n",
       "      <td>120</td>\n",
       "      <td>0.038</td>\n",
       "      <td>0.199029</td>\n",
       "      <td>0.068</td>\n",
       "      <td>0.184466</td>\n",
       "      <td>0</td>\n",
       "    </tr>\n",
       "    <tr>\n",
       "      <th>70</th>\n",
       "      <td>2007_000504.jpg</td>\n",
       "      <td>500</td>\n",
       "      <td>412</td>\n",
       "      <td>person</td>\n",
       "      <td>29</td>\n",
       "      <td>41</td>\n",
       "      <td>42</td>\n",
       "      <td>64</td>\n",
       "      <td>0.070</td>\n",
       "      <td>0.128641</td>\n",
       "      <td>0.024</td>\n",
       "      <td>0.053398</td>\n",
       "      <td>0</td>\n",
       "    </tr>\n",
       "    <tr>\n",
       "      <th>79</th>\n",
       "      <td>2007_000559.jpg</td>\n",
       "      <td>500</td>\n",
       "      <td>370</td>\n",
       "      <td>bottle</td>\n",
       "      <td>36</td>\n",
       "      <td>79</td>\n",
       "      <td>250</td>\n",
       "      <td>354</td>\n",
       "      <td>0.115</td>\n",
       "      <td>0.816216</td>\n",
       "      <td>0.086</td>\n",
       "      <td>0.281081</td>\n",
       "      <td>3</td>\n",
       "    </tr>\n",
       "    <tr>\n",
       "      <th>80</th>\n",
       "      <td>2007_000559.jpg</td>\n",
       "      <td>500</td>\n",
       "      <td>370</td>\n",
       "      <td>tvmonitor</td>\n",
       "      <td>160</td>\n",
       "      <td>371</td>\n",
       "      <td>26</td>\n",
       "      <td>241</td>\n",
       "      <td>0.531</td>\n",
       "      <td>0.360811</td>\n",
       "      <td>0.422</td>\n",
       "      <td>0.581081</td>\n",
       "      <td>13</td>\n",
       "    </tr>\n",
       "    <tr>\n",
       "      <th>87</th>\n",
       "      <td>2007_000636.jpg</td>\n",
       "      <td>500</td>\n",
       "      <td>335</td>\n",
       "      <td>train</td>\n",
       "      <td>79</td>\n",
       "      <td>392</td>\n",
       "      <td>96</td>\n",
       "      <td>300</td>\n",
       "      <td>0.471</td>\n",
       "      <td>0.591045</td>\n",
       "      <td>0.626</td>\n",
       "      <td>0.608955</td>\n",
       "      <td>17</td>\n",
       "    </tr>\n",
       "  </tbody>\n",
       "</table>\n",
       "</div>"
      ],
      "text/plain": [
       "           filename  width  height       name  xmin  xmax  ymin  ymax  \\\n",
       "41  2007_000323.jpg    500     375     person   277   500     3   375   \n",
       "42  2007_000323.jpg    500     375     person    12   305     3   375   \n",
       "66  2007_000491.jpg    500     334        cow     2   459     2   334   \n",
       "67  2007_000504.jpg    500     412        cow   341   500   102   406   \n",
       "68  2007_000504.jpg    500     412     person    36    79    34   123   \n",
       "69  2007_000504.jpg    500     412     person     2    36    44   120   \n",
       "70  2007_000504.jpg    500     412     person    29    41    42    64   \n",
       "79  2007_000559.jpg    500     370     bottle    36    79   250   354   \n",
       "80  2007_000559.jpg    500     370  tvmonitor   160   371    26   241   \n",
       "87  2007_000636.jpg    500     335      train    79   392    96   300   \n",
       "\n",
       "    centre_x  centre_y      w         h  id  \n",
       "41     0.777  0.504000  0.446  0.992000   0  \n",
       "42     0.317  0.504000  0.586  0.992000   0  \n",
       "66     0.461  0.502994  0.914  0.994012  14  \n",
       "67     0.841  0.616505  0.318  0.737864  14  \n",
       "68     0.115  0.190534  0.086  0.216019   0  \n",
       "69     0.038  0.199029  0.068  0.184466   0  \n",
       "70     0.070  0.128641  0.024  0.053398   0  \n",
       "79     0.115  0.816216  0.086  0.281081   3  \n",
       "80     0.531  0.360811  0.422  0.581081  13  \n",
       "87     0.471  0.591045  0.626  0.608955  17  "
      ]
     },
     "execution_count": 49,
     "metadata": {},
     "output_type": "execute_result"
    }
   ],
   "source": [
    "test_df.head(10)"
   ]
  },
  {
   "cell_type": "markdown",
   "id": "e414b72d-b8ad-4329-afaf-1edfd50e58cf",
   "metadata": {},
   "source": [
    "Saving Images and labels as text"
   ]
  },
  {
   "cell_type": "code",
   "execution_count": 50,
   "id": "55f64d77-dd00-4b90-86b6-db035533a184",
   "metadata": {},
   "outputs": [],
   "source": [
    "from shutil import move"
   ]
  },
  {
   "cell_type": "code",
   "execution_count": 53,
   "id": "79943228-5d77-4516-8c25-7c4e84dfc036",
   "metadata": {},
   "outputs": [],
   "source": [
    "train_folder = 'YOLO_data/train'\n",
    "test_folder = 'YOLO_data/test'\n",
    "\n",
    "os.mkdir(train_folder)\n",
    "os.mkdir(test_folder)"
   ]
  },
  {
   "cell_type": "code",
   "execution_count": 58,
   "id": "e7e8a379-ec83-4cca-bbe0-6b61e40020fd",
   "metadata": {},
   "outputs": [],
   "source": [
    "# grouping the following info belonging to each image together\n",
    "cols = ['filename','id','centre_x','centre_y','w','h']\n",
    "groupby_train = train_df[cols].groupby('filename')\n",
    "groupby_test = test_df[cols].groupby('filename')"
   ]
  },
  {
   "cell_type": "code",
   "execution_count": 65,
   "id": "c80b8694-2680-4253-8bcb-c55f6af7adc6",
   "metadata": {},
   "outputs": [],
   "source": [
    "# save each image in train/test_folder and respective labels in .txt\n",
    "def save_data(filename, folder_path, group_obj):\n",
    "    # moving image from source to destination using move\n",
    "    src = os.path.join('VOC2012/JPEGImages',filename)\n",
    "    dst = os.path.join(folder_path, filename)\n",
    "    move(src, dst)\n",
    "\n",
    "    # saving the labels - id,centre_x,centre_y,w,h for each object in an image in a single filename.txt file\n",
    "    text_filename = os.path.splitext(filename)[0]+'.txt'  # splitting the extension jpg from the filename and assigning the image no. as text_filename\n",
    "    text_filename = os.path.join(folder_path, text_filename) # destination file path\n",
    "    group_obj.get_group(filename).set_index('filename').to_csv(text_filename,index=False,header=False,sep=' ')    "
   ]
  },
  {
   "cell_type": "code",
   "execution_count": 66,
   "id": "35e5e4c8-8bc0-4ccd-a8df-f6335c74d9a5",
   "metadata": {},
   "outputs": [],
   "source": [
    "train_keys = pd.Series(groupby_train.groups.keys())"
   ]
  },
  {
   "cell_type": "code",
   "execution_count": 67,
   "id": "912f5eed-ca29-4868-a07b-0a7ad3ea5532",
   "metadata": {},
   "outputs": [
    {
     "data": {
      "text/plain": [
       "0        None\n",
       "1        None\n",
       "2        None\n",
       "3        None\n",
       "4        None\n",
       "         ... \n",
       "13695    None\n",
       "13696    None\n",
       "13697    None\n",
       "13698    None\n",
       "13699    None\n",
       "Length: 13700, dtype: object"
      ]
     },
     "execution_count": 67,
     "metadata": {},
     "output_type": "execute_result"
    }
   ],
   "source": [
    "train_keys.apply(save_data,args=(train_folder, groupby_train))"
   ]
  },
  {
   "cell_type": "code",
   "execution_count": 68,
   "id": "f757521b-8ba3-46b4-81bf-625a6ce731a7",
   "metadata": {},
   "outputs": [],
   "source": [
    "test_keys = pd.Series(groupby_test.groups.keys())"
   ]
  },
  {
   "cell_type": "code",
   "execution_count": 69,
   "id": "bfb63eea-2c6d-4319-adee-cd952f53881a",
   "metadata": {},
   "outputs": [
    {
     "data": {
      "text/plain": [
       "0       None\n",
       "1       None\n",
       "2       None\n",
       "3       None\n",
       "4       None\n",
       "        ... \n",
       "3420    None\n",
       "3421    None\n",
       "3422    None\n",
       "3423    None\n",
       "3424    None\n",
       "Length: 3425, dtype: object"
      ]
     },
     "execution_count": 69,
     "metadata": {},
     "output_type": "execute_result"
    }
   ],
   "source": [
    "test_keys.apply(save_data,args=(test_folder, groupby_test))"
   ]
  }
 ],
 "metadata": {
  "kernelspec": {
   "display_name": "Python 3 (ipykernel)",
   "language": "python",
   "name": "python3"
  },
  "language_info": {
   "codemirror_mode": {
    "name": "ipython",
    "version": 3
   },
   "file_extension": ".py",
   "mimetype": "text/x-python",
   "name": "python",
   "nbconvert_exporter": "python",
   "pygments_lexer": "ipython3",
   "version": "3.11.7"
  }
 },
 "nbformat": 4,
 "nbformat_minor": 5
}
