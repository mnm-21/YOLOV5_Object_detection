{
 "cells": [
  {
   "cell_type": "code",
   "execution_count": null,
   "id": "6c9463ab-b41e-47a6-a85f-3f6fecbead8d",
   "metadata": {},
   "outputs": [],
   "source": [
    "import cv2\n",
    "from processing_predicted_values import YOLO_Pred"
   ]
  },
  {
   "cell_type": "code",
   "execution_count": null,
   "id": "6e6d1423-0e8d-451c-9b66-180c86baf0ff",
   "metadata": {},
   "outputs": [],
   "source": [
    "yolo = YOLO_Pred('Model2/weights/best.onnx','data.yaml')"
   ]
  },
  {
   "cell_type": "code",
   "execution_count": null,
   "id": "4216f013-dbbd-4b64-913e-eebc298f12c0",
   "metadata": {},
   "outputs": [],
   "source": [
    "img = cv2.imread('YOLO_data/street_image.jpg')\n",
    "cv2.imshow('img',img)\n",
    "cv2.waitKey(0)\n",
    "cv2.destroyAllWindows()"
   ]
  },
  {
   "cell_type": "code",
   "execution_count": null,
   "id": "2611299d-c363-4c5c-9cb8-8f185c68ae61",
   "metadata": {},
   "outputs": [],
   "source": [
    "img_pred = yolo.predictions(img)"
   ]
  },
  {
   "cell_type": "code",
   "execution_count": null,
   "id": "4da6034d-f437-4edf-8d2f-e9b429fdc521",
   "metadata": {},
   "outputs": [],
   "source": [
    "cv2.imshow('prediction image',img_pred)\n",
    "cv2.waitKey(0)\n",
    "cv2.destroyAllWindows()"
   ]
  },
  {
   "cell_type": "code",
   "execution_count": null,
   "id": "f41a228d-e5c2-4450-b80b-ab86637cb112",
   "metadata": {},
   "outputs": [],
   "source": [
    "# Real Time Object Detection\n",
    "cap = cv2.VideoCapture('YOLO_data/video.mp4')\n",
    "\n",
    "while True:\n",
    "    ret, frame =cap.read()\n",
    "    if ret == False:\n",
    "        print('unable to read video')\n",
    "        break\n",
    "\n",
    "    pred_image = yolo.predictions(frame)\n",
    "    cv2.imshow('YOLO',pred_image)\n",
    "    if cv2.waitKey(1) == 27:\n",
    "        break\n",
    "\n",
    "cv2.destroyAllWindows()\n",
    "cap.release()"
   ]
  },
  {
   "cell_type": "code",
   "execution_count": null,
   "id": "2d503d6e-4694-4201-be2c-7f43ff5c17a2",
   "metadata": {},
   "outputs": [],
   "source": []
  }
 ],
 "metadata": {
  "kernelspec": {
   "display_name": "Python 3 (ipykernel)",
   "language": "python",
   "name": "python3"
  },
  "language_info": {
   "codemirror_mode": {
    "name": "ipython",
    "version": 3
   },
   "file_extension": ".py",
   "mimetype": "text/x-python",
   "name": "python",
   "nbconvert_exporter": "python",
   "pygments_lexer": "ipython3",
   "version": "3.12.1"
  }
 },
 "nbformat": 4,
 "nbformat_minor": 5
}
